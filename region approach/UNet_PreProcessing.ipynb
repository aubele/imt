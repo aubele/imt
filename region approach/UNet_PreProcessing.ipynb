{
 "cells": [
  {
   "cell_type": "markdown",
   "metadata": {},
   "source": [
    "# Imports"
   ]
  },
  {
   "cell_type": "code",
   "execution_count": 1,
   "metadata": {},
   "outputs": [],
   "source": [
    "import h5py\n",
    "import os\n",
    "import random\n",
    "\n",
    "import cv2\n",
    "\n",
    "import numpy as np\n",
    "import matplotlib.pyplot as plt\n",
    "\n",
    "from sklearn.model_selection import train_test_split"
   ]
  },
  {
   "cell_type": "markdown",
   "metadata": {},
   "source": [
    "# Constants"
   ]
  },
  {
   "cell_type": "code",
   "execution_count": 2,
   "metadata": {},
   "outputs": [],
   "source": [
    "# for creating reproducible results\n",
    "SEED = 22\n",
    "np.random.seed = SEED\n",
    "\n",
    "# values for images\n",
    "Y_SPACE = 10\n",
    "IMG_WIDTH = 512\n",
    "IMG_HEIGHT = 512\n",
    "\n",
    "# necessary colours\n",
    "CLASS_BLACK = (0,0,0)\n",
    "CLASS_RED = (255,0,0)\n",
    "CLASS_GREEN = (0,255,0)\n",
    "CLASS_BLUE = (0,0,255)\n",
    "\n",
    "# directoy with all hdf5 files, should already exist\n",
    "HD5_DIRECTORY = './AuswertungMarkerDS/'\n",
    "# directories to save the results, should be created\n",
    "IMAGE_DIRECTORY = './data/images/'\n",
    "MASK_DIRECTORY = './data/masks/'\n",
    "FILENAME_DIRECTORY = './data/filenames/'"
   ]
  },
  {
   "cell_type": "code",
   "execution_count": 3,
   "metadata": {},
   "outputs": [],
   "source": [
    "# create all essential directories if they do not exist\n",
    "if not os.path.exists(IMAGE_DIRECTORY):\n",
    "    os.makedirs(IMAGE_DIRECTORY)\n",
    "if not os.path.exists(MASK_DIRECTORY):\n",
    "    os.makedirs(MASK_DIRECTORY)\n",
    "if not os.path.exists(FILENAME_DIRECTORY):\n",
    "    os.makedirs(FILENAME_DIRECTORY)"
   ]
  },
  {
   "cell_type": "markdown",
   "metadata": {},
   "source": [
    "# Find all HDF5-files"
   ]
  },
  {
   "cell_type": "code",
   "execution_count": 4,
   "metadata": {},
   "outputs": [],
   "source": [
    "def readHD5Data(directory):\n",
    "    \"\"\"Find all HDF5-files in the given directory\n",
    "    and append them in a list as HDF5 objects with h5py\n",
    "\n",
    "    Parameters\n",
    "    ----------\n",
    "    directory : str\n",
    "        The directory to be searched\n",
    "\n",
    "    Returns\n",
    "    -------\n",
    "    list\n",
    "        A list of HDF5-file objects\n",
    "    \"\"\"\n",
    "    \n",
    "    h5files = []    \n",
    "    # iterate through the given directory\n",
    "    for root, dirs, files in os.walk(directory):\n",
    "        for name in files:\n",
    "            # bad example since the lines are one pixel too short\n",
    "            if (name == 'SAPCIMT-20100928-6300078-1952-F-63-1-50000044-634-LCCAH-SC-20101215-ClipResult.h5'):\n",
    "                continue\n",
    "            # only use HDF5-files\n",
    "            elif name.endswith(\".h5\"):\n",
    "                # create the correct path\n",
    "                path = os.path.join(root,name)\n",
    "                path = path.replace('\\\\', '/') \n",
    "                # read the HDF5-file with h5py and save it in a list\n",
    "                h5files.append(h5py.File(path, 'r'))\n",
    "    return h5files"
   ]
  },
  {
   "cell_type": "code",
   "execution_count": 5,
   "metadata": {},
   "outputs": [
    {
     "name": "stdout",
     "output_type": "stream",
     "text": [
      "./AuswertungMarkerDS/interobserver_medium/resultateT0/SAPCIMT-20100901-6300790-1958-M-63-1-50000044-634-RCCAE-SC-20101213-ClipResult.h5\n",
      "./AuswertungMarkerDS/interobserver_good/resultateT1/SAPCIMT-20100914-6301567-1932-F-63-1-50000044-634-LCCAH-SC-20110311-ClipResult.h5\n",
      "./AuswertungMarkerDS/interobserver_medium/resultateT0/SAPCIMT-20100902-6302002-1938-M-63-1-50000044-634-LCCAH-CM-20110309-ClipResult.h5\n",
      "./AuswertungMarkerDS/interobserver_medium/resultateT1/SAPCIMT-20100902-6302002-1938-M-63-1-50000044-634-LCCAH-SC-20110311-ClipResult.h5\n",
      "./AuswertungMarkerDS/interobserver_medium/resultateT0/SAPCIMT-20100902-6701909-1946-M-67-2-50000045-671-LCCAE-SC-20101214-ClipResult.h5\n"
     ]
    }
   ],
   "source": [
    "# find HDF5-files\n",
    "h5files = readHD5Data(HD5_DIRECTORY)\n",
    "# shuffle the list\n",
    "random.shuffle(h5files)\n",
    "# print first five file names to test\n",
    "for file in h5files[:5]:\n",
    "    print(file.filename)"
   ]
  },
  {
   "cell_type": "markdown",
   "metadata": {},
   "source": [
    "# Create the images and masks"
   ]
  },
  {
   "cell_type": "code",
   "execution_count": 6,
   "metadata": {},
   "outputs": [],
   "source": [
    "def padImage(desiredShape, image):\n",
    "    \"\"\"Pad the given image to the desired shape with a \n",
    "    method from OpenCV\n",
    "\n",
    "    Parameters\n",
    "    ----------\n",
    "    desiredShape : tuple\n",
    "        The desired shape for the given image\n",
    "    image : numpy-array\n",
    "        The image which requires padding\n",
    "        \n",
    "    Returns\n",
    "    -------\n",
    "    numpy-array\n",
    "        The padded image\n",
    "    \"\"\"\n",
    "    \n",
    "    # get the old shape\n",
    "    oldShape = image.shape\n",
    "    # find out the differences of the shapes\n",
    "    deltaH = desiredShape[0] - oldShape[0]\n",
    "    deltaW = desiredShape[1] - oldShape[1]\n",
    "    # split them evenly\n",
    "    top, bottom = deltaH//2, deltaH-(deltaH//2)\n",
    "    left, right = deltaW//2, deltaW-(deltaW//2)\n",
    "    # pad with opencv\n",
    "    newImage = cv2.copyMakeBorder(image, top, bottom, left, right, cv2.BORDER_CONSTANT, value=[0, 0, 0])\n",
    "    return newImage"
   ]
  },
  {
   "cell_type": "code",
   "execution_count": 7,
   "metadata": {},
   "outputs": [],
   "source": [
    "def createImagesAndMasks(h5files):\n",
    "    \"\"\"Creates the ultrasound images and masks out of the\n",
    "    given HDF5-files, which contain all necessary data\n",
    "\n",
    "    Parameters\n",
    "    ----------\n",
    "    h5files : list\n",
    "        List of all HDF5-files which are used for creating\n",
    "        images and masks\n",
    "        \n",
    "    Returns\n",
    "    -------\n",
    "    list\n",
    "        All paths to the created images\n",
    "    list\n",
    "        All paths to the created masks\n",
    "    \"\"\"\n",
    "        \n",
    "    filenamesImages = []\n",
    "    filenamesMasks = []\n",
    "    counter = 1\n",
    "    # for all files\n",
    "    for h5 in h5files: \n",
    "        # get the necessary datasets\n",
    "        imageSequence = h5['imagedata'] \n",
    "        lbNear = h5['lbNearWall']\n",
    "        liFar = h5['liFarWall']\n",
    "        maFar = h5['maFarWall']\n",
    "        \n",
    "        # only iterate through the necessary slices, which have a imt value\n",
    "        for i in range(h5.attrs['firstslice'], h5.attrs['lastslice']+1):\n",
    "            # get the frame\n",
    "            frame = imageSequence[i]\n",
    "            # create a mask\n",
    "            mask = np.zeros(frame.shape, dtype=np.uint8)\n",
    "            # cut the frame according to the bounding box\n",
    "            frame = frame[h5.attrs['minYnear']-Y_SPACE:h5.attrs['maxYfar']+Y_SPACE+1, \n",
    "                          h5.attrs['begin_1cm']:h5.attrs['begin_1cm']+h5.attrs['bbWidth']+1]\n",
    "            # all images need to have the same size\n",
    "            frame = padImage((IMG_WIDTH,IMG_HEIGHT), frame)\n",
    "            # save it\n",
    "            np.save(IMAGE_DIRECTORY + h5.filename.split('/')[-3] + \"_\" + h5.filename.split('/')[-2] + \"_\" +\n",
    "                    h5.filename.split('/')[-1] + \"_\" + str(i), frame)\n",
    "            filenamesImages.append(h5.filename.split('/')[-3] + \"_\" + h5.filename.split('/')[-2] + \"_\" +\n",
    "                    h5.filename.split('/')[-1] + \"_\" + str(i) + '.npy')\n",
    "            \n",
    "            # iterate over each column of the image in the bounding box\n",
    "            for j in range(h5.attrs['begin_1cm'], (h5.attrs['begin_1cm']+h5.attrs['bbWidth']+1)):\n",
    "                # if a value is negative something went wrong\n",
    "                if(lbNear[i][j] == -1 or liFar[i][j] == -1 or maFar[i][j] == -1):\n",
    "                    print(h5.filename + f': error in slice {i} at position {j}')\n",
    "                    continue\n",
    "                # draw the boundaries into the mask\n",
    "                else:\n",
    "                    mask[int(lbNear[i][j]), j] = (255,0,0)\n",
    "                    mask[int(liFar[i][j]):int(maFar[i][j]), j] = (0,255,0)\n",
    "            # cut the mask according to the bounding box\n",
    "            mask = mask[h5.attrs['minYnear']-Y_SPACE:h5.attrs['maxYfar']+Y_SPACE+1, \n",
    "                        h5.attrs['begin_1cm']:h5.attrs['begin_1cm']+h5.attrs['bbWidth']+1]\n",
    "            # all masks need to have the same size\n",
    "            mask = padImage((IMG_WIDTH,IMG_HEIGHT), mask)\n",
    "            # save it\n",
    "            np.save(MASK_DIRECTORY + h5.filename.split('/')[-3] + \"_\" + h5.filename.split('/')[-2] + \"_\" +\n",
    "                    h5.filename.split('/')[-1] + \"_\" + str(i) + '_mask', mask)\n",
    "            filenamesMasks.append(h5.filename.split('/')[-3] + \"_\" + h5.filename.split('/')[-2] + \"_\" +\n",
    "                    h5.filename.split('/')[-1] + \"_\" + str(i) + '_mask' + '.npy')\n",
    "        \n",
    "        # show the progress\n",
    "        print(f' {counter} out of ' + str(len(h5files)) + ' files done', end='\\r')\n",
    "        counter += 1\n",
    "    return filenamesImages, filenamesMasks"
   ]
  },
  {
   "cell_type": "code",
   "execution_count": 8,
   "metadata": {},
   "outputs": [
    {
     "name": "stdout",
     "output_type": "stream",
     "text": [
      " 5 out of 5 files done\r"
     ]
    }
   ],
   "source": [
    "# the execution of this cell may take a long time\n",
    "\n",
    "filenamesImages, filenamesMasks = createImagesAndMasks(h5files)"
   ]
  },
  {
   "cell_type": "markdown",
   "metadata": {},
   "source": [
    "## Check if the results are correct"
   ]
  },
  {
   "cell_type": "code",
   "execution_count": 9,
   "metadata": {
    "scrolled": true
   },
   "outputs": [
    {
     "name": "stdout",
     "output_type": "stream",
     "text": [
      "499\n",
      "499\n",
      "['interobserver_medium_resultateT0_SAPCIMT-20100901-6300790-1958-M-63-1-50000044-634-RCCAE-SC-20101213-ClipResult.h5_32.npy', 'interobserver_medium_resultateT0_SAPCIMT-20100901-6300790-1958-M-63-1-50000044-634-RCCAE-SC-20101213-ClipResult.h5_33.npy', 'interobserver_medium_resultateT0_SAPCIMT-20100901-6300790-1958-M-63-1-50000044-634-RCCAE-SC-20101213-ClipResult.h5_34.npy', 'interobserver_medium_resultateT0_SAPCIMT-20100901-6300790-1958-M-63-1-50000044-634-RCCAE-SC-20101213-ClipResult.h5_35.npy', 'interobserver_medium_resultateT0_SAPCIMT-20100901-6300790-1958-M-63-1-50000044-634-RCCAE-SC-20101213-ClipResult.h5_36.npy']\n",
      "['interobserver_medium_resultateT0_SAPCIMT-20100901-6300790-1958-M-63-1-50000044-634-RCCAE-SC-20101213-ClipResult.h5_32_mask.npy', 'interobserver_medium_resultateT0_SAPCIMT-20100901-6300790-1958-M-63-1-50000044-634-RCCAE-SC-20101213-ClipResult.h5_33_mask.npy', 'interobserver_medium_resultateT0_SAPCIMT-20100901-6300790-1958-M-63-1-50000044-634-RCCAE-SC-20101213-ClipResult.h5_34_mask.npy', 'interobserver_medium_resultateT0_SAPCIMT-20100901-6300790-1958-M-63-1-50000044-634-RCCAE-SC-20101213-ClipResult.h5_35_mask.npy', 'interobserver_medium_resultateT0_SAPCIMT-20100901-6300790-1958-M-63-1-50000044-634-RCCAE-SC-20101213-ClipResult.h5_36_mask.npy']\n"
     ]
    }
   ],
   "source": [
    "# check the structure of the created lists\n",
    "print(len(filenamesImages))\n",
    "print(len(filenamesMasks))\n",
    "print(filenamesImages[:5])\n",
    "print(filenamesMasks[:5])"
   ]
  },
  {
   "cell_type": "code",
   "execution_count": 10,
   "metadata": {},
   "outputs": [
    {
     "name": "stdout",
     "output_type": "stream",
     "text": [
      "(512, 512, 3)\n",
      "(512, 512, 3)\n"
     ]
    }
   ],
   "source": [
    "# check a frame\n",
    "image = np.load(IMAGE_DIRECTORY+filenamesImages[0]) \n",
    "mask = np.load(MASK_DIRECTORY+filenamesMasks[0])\n",
    "print(image.shape)\n",
    "print(mask.shape)"
   ]
  },
  {
   "cell_type": "code",
   "execution_count": 11,
   "metadata": {
    "scrolled": false
   },
   "outputs": [
    {
     "data": {
      "text/plain": [
       "<matplotlib.image.AxesImage at 0x563ef88>"
      ]
     },
     "execution_count": 11,
     "metadata": {},
     "output_type": "execute_result"
    },
    {
     "data": {
      "image/png": "[encoded data removed]",
      "text/plain": [
       "<Figure size 720x720 with 1 Axes>"
      ]
     },
     "metadata": {
      "needs_background": "light"
     },
     "output_type": "display_data"
    },
    {
     "data": {
      "image/png": "[encoded data removed]",
      "text/plain": [
       "<Figure size 720x720 with 1 Axes>"
      ]
     },
     "metadata": {
      "needs_background": "light"
     },
     "output_type": "display_data"
    }
   ],
   "source": [
    "plt.figure(figsize = (10,10))\n",
    "plt.imshow(image)\n",
    "plt.figure(figsize = (10,10))\n",
    "plt.imshow(mask)"
   ]
  },
  {
   "cell_type": "markdown",
   "metadata": {},
   "source": [
    "# Create a train/test split"
   ]
  },
  {
   "cell_type": "code",
   "execution_count": 12,
   "metadata": {},
   "outputs": [
    {
     "name": "stdout",
     "output_type": "stream",
     "text": [
      "399\n",
      "399\n",
      "100\n",
      "100\n"
     ]
    }
   ],
   "source": [
    "X_train, X_test, y_train, y_test = train_test_split(filenamesImages, filenamesMasks, \n",
    "                                                    test_size=0.2, shuffle=True, random_state = SEED)\n",
    "\n",
    "print(len(X_train))\n",
    "print(len(y_train))\n",
    "\n",
    "print(len(X_test))\n",
    "print(len(y_test))"
   ]
  },
  {
   "cell_type": "code",
   "execution_count": 13,
   "metadata": {},
   "outputs": [],
   "source": [
    "# save so reproducible results can be created\n",
    "np.save(FILENAME_DIRECTORY + 'X_train.npy', X_train)\n",
    "np.save(FILENAME_DIRECTORY + 'y_train.npy', y_train)\n",
    "\n",
    "np.save(FILENAME_DIRECTORY + 'X_test.npy', X_test)\n",
    "np.save(FILENAME_DIRECTORY + 'y_test.npy', y_test)"
   ]
  },
  {
   "cell_type": "code",
   "execution_count": null,
   "metadata": {},
   "outputs": [],
   "source": []
  }
 ],
 "metadata": {
  "kernelspec": {
   "display_name": "Python 3",
   "language": "python",
   "name": "python3"
  },
  "language_info": {
   "codemirror_mode": {
    "name": "ipython",
    "version": 3
   },
   "file_extension": ".py",
   "mimetype": "text/x-python",
   "name": "python",
   "nbconvert_exporter": "python",
   "pygments_lexer": "ipython3",
   "version": "3.7.6"
  },
  "toc": {
   "base_numbering": 1,
   "nav_menu": {},
   "number_sections": false,
   "sideBar": true,
   "skip_h1_title": false,
   "title_cell": "Table of Contents",
   "title_sidebar": "Contents",
   "toc_cell": false,
   "toc_position": {
    "height": "calc(100% - 180px)",
    "left": "10px",
    "top": "150px",
    "width": "412.267px"
   },
   "toc_section_display": true,
   "toc_window_display": true
  },
  "varInspector": {
   "cols": {
    "lenName": 16,
    "lenType": 16,
    "lenVar": 40
   },
   "kernels_config": {
    "python": {
     "delete_cmd_postfix": "",
     "delete_cmd_prefix": "del ",
     "library": "var_list.py",
     "varRefreshCmd": "print(var_dic_list())"
    },
    "r": {
     "delete_cmd_postfix": ") ",
     "delete_cmd_prefix": "rm(",
     "library": "var_list.r",
     "varRefreshCmd": "cat(var_dic_list()) "
    }
   },
   "types_to_exclude": [
    "module",
    "function",
    "builtin_function_or_method",
    "instance",
    "_Feature"
   ],
   "window_display": false
  }
 },
 "nbformat": 4,
 "nbformat_minor": 4
}
